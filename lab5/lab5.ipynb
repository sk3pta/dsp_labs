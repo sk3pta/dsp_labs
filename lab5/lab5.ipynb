{
 "cells": [
  {
   "metadata": {
    "ExecuteTime": {
     "end_time": "2024-05-16T21:48:18.091135Z",
     "start_time": "2024-05-16T21:48:18.085738Z"
    }
   },
   "cell_type": "code",
   "source": [
    "import string\n",
    "\n",
    "import pandas as pd\n",
    "import wikipedia\n",
    "\n",
    "articles = ['Computer security',\n",
    "            'Automotive security',\n",
    "            'Cybercrime', \n",
    "            'Cybersex trafficking',\n",
    "            'Computer fraud',\n",
    "            'Cybergeddon', \n",
    "            'Cyberterrorism',\n",
    "            'Cyberwarfare',\n",
    "            'Electromagnetic warfare',\n",
    "            'Information warfare',\n",
    "            'Internet security ', \n",
    "            'Mobile security', \n",
    "            'Network security', \n",
    "            'Copy protection',\n",
    "            'Advanced persistent threat',\n",
    "            \n",
    "            \n",
    "        'Standard Model','Quantum field theory','Quantum electrodynamics','Quantum chromodynamics','Electroweak theory','Effective field theory','Lattice field theory','Gauge theory','Supersymmetry',\n",
    "          'Grand Unified Theory','Superstring theory','M-theory','AdS/CFT correspondence','Quantum optics','Quantum chemistry', \n",
    "            \n",
    "            \n",
    "            'Caucasus',\n",
    "            'Dagestan',\n",
    "            'Chechnya',\n",
    "            'Ingushetia',\n",
    "            'Kabardino-Balkaria',\n",
    "            'Adygea',\n",
    "            'Lezgins',\n",
    "            'Lezgistan',\n",
    "            'Caucasian Albania',\n",
    "            'Makhachkala',\n",
    "            'Derbent',\n",
    "            'Kizlyar',\n",
    "            \n",
    "            \n",
    "            \n",
    "            \n",
    "            ]\n"
   ],
   "id": "initial_id",
   "outputs": [],
   "execution_count": 170
  },
  {
   "metadata": {},
   "cell_type": "markdown",
   "source": "",
   "id": "6c9adcba7de8ec99"
  },
  {
   "metadata": {
    "ExecuteTime": {
     "end_time": "2024-05-16T21:49:10.111371Z",
     "start_time": "2024-05-16T21:48:19.134186Z"
    }
   },
   "cell_type": "code",
   "source": [
    "\n",
    "print(f\"Amount of articles : {len(articles)}\")\n",
    "count = 1\n",
    "wiki_lst = []\n",
    "for articl in articles:\n",
    "    wiki_lst.append(wikipedia.page(articl).content)\n",
    "    print(f\"{count}. appended : {articl}\")\n",
    "    count += 1\n"
   ],
   "id": "c45c90432ecc6ab0",
   "outputs": [
    {
     "name": "stdout",
     "output_type": "stream",
     "text": [
      "Amount of articles : 42\n",
      "1. appended : Computer security\n",
      "2. appended : Automotive security\n",
      "3. appended : Cybercrime\n",
      "4. appended : Cybersex trafficking\n",
      "5. appended : Computer fraud\n",
      "6. appended : Cybergeddon\n",
      "7. appended : Cyberterrorism\n",
      "8. appended : Cyberwarfare\n",
      "9. appended : Electromagnetic warfare\n",
      "10. appended : Information warfare\n",
      "11. appended : Internet security \n",
      "12. appended : Mobile security\n",
      "13. appended : Network security\n",
      "14. appended : Copy protection\n",
      "15. appended : Advanced persistent threat\n",
      "16. appended : Standard Model\n",
      "17. appended : Quantum field theory\n",
      "18. appended : Quantum electrodynamics\n",
      "19. appended : Quantum chromodynamics\n",
      "20. appended : Electroweak theory\n",
      "21. appended : Effective field theory\n",
      "22. appended : Lattice field theory\n",
      "23. appended : Gauge theory\n",
      "24. appended : Supersymmetry\n",
      "25. appended : Grand Unified Theory\n",
      "26. appended : Superstring theory\n",
      "27. appended : M-theory\n",
      "28. appended : AdS/CFT correspondence\n",
      "29. appended : Quantum optics\n",
      "30. appended : Quantum chemistry\n",
      "31. appended : Caucasus\n",
      "32. appended : Dagestan\n",
      "33. appended : Chechnya\n",
      "34. appended : Ingushetia\n",
      "35. appended : Kabardino-Balkaria\n",
      "36. appended : Adygea\n",
      "37. appended : Lezgins\n",
      "38. appended : Lezgistan\n",
      "39. appended : Caucasian Albania\n",
      "40. appended : Makhachkala\n",
      "41. appended : Derbent\n",
      "42. appended : Kizlyar\n"
     ]
    }
   ],
   "execution_count": 171
  },
  {
   "metadata": {
    "ExecuteTime": {
     "end_time": "2024-05-16T21:09:08.724290Z",
     "start_time": "2024-05-16T21:09:08.721145Z"
    }
   },
   "cell_type": "code",
   "source": [
    "import nltk\n",
    "import spacy\n",
    "from nltk.corpus import stopwords\n",
    "from nltk.tokenize import word_tokenize\n",
    "import string\n"
   ],
   "id": "eea37ae62d217d50",
   "outputs": [],
   "execution_count": 123
  },
  {
   "metadata": {
    "ExecuteTime": {
     "end_time": "2024-05-16T21:09:09.479920Z",
     "start_time": "2024-05-16T21:09:09.477054Z"
    }
   },
   "cell_type": "code",
   "source": "print(len(wiki_lst))",
   "id": "86e5045d4e7b7874",
   "outputs": [
    {
     "name": "stdout",
     "output_type": "stream",
     "text": [
      "41\n"
     ]
    }
   ],
   "execution_count": 124
  },
  {
   "metadata": {
    "ExecuteTime": {
     "end_time": "2024-05-16T21:49:15.483081Z",
     "start_time": "2024-05-16T21:49:15.477641Z"
    }
   },
   "cell_type": "code",
   "source": [
    "# Прерпоцессинг текста, приведение к ловеркейсу, стемминг\n",
    "nltk.download('stopwords')\n",
    "nltk.download('punkt')\n"
   ],
   "id": "e9edf9d854699d72",
   "outputs": [
    {
     "name": "stderr",
     "output_type": "stream",
     "text": [
      "[nltk_data] Downloading package stopwords to /home/cere/nltk_data...\n",
      "[nltk_data]   Package stopwords is already up-to-date!\n",
      "[nltk_data] Downloading package punkt to /home/cere/nltk_data...\n",
      "[nltk_data]   Package punkt is already up-to-date!\n"
     ]
    },
    {
     "data": {
      "text/plain": [
       "True"
      ]
     },
     "execution_count": 172,
     "metadata": {},
     "output_type": "execute_result"
    }
   ],
   "execution_count": 172
  },
  {
   "metadata": {
    "ExecuteTime": {
     "end_time": "2024-05-16T21:49:16.320562Z",
     "start_time": "2024-05-16T21:49:16.315789Z"
    }
   },
   "cell_type": "code",
   "source": [
    "stop_words = set(stopwords.words('english'))\n",
    "punct = set(string.punctuation)\n",
    "# - ты садист?\n",
    "# - я дивергент\n",
    "print(stop_words)\n",
    "print(punct)"
   ],
   "id": "fbc054ba587c4acb",
   "outputs": [
    {
     "name": "stdout",
     "output_type": "stream",
     "text": [
      "{'i', 'o', 'won', 'itself', 'doing', 'into', 'don', 'nor', 'me', 'our', 'should', 'no', 'until', 'it', 'because', 'myself', 'in', 'hers', 'aren', 'as', \"you're\", 'him', 'by', 'or', \"hasn't\", 'any', 'himself', 'their', 'before', 'then', \"shan't\", \"mightn't\", \"hadn't\", 'wouldn', 'hasn', 'most', 'both', 'than', 'theirs', 'just', 'couldn', 't', 'can', 'didn', 'the', 'further', 'that', \"she's\", 'down', 'why', 'they', \"it's\", 'mustn', 'were', 'a', \"isn't\", \"wasn't\", \"you'd\", 'she', 'weren', 'how', \"you'll\", 'who', 'some', \"doesn't\", 'too', 'ours', 'an', 'there', 'once', 'your', 'when', 'below', 'over', 'shan', 'under', 'same', \"should've\", 'yourself', 'his', 'again', 'which', 'not', 'very', 'above', \"didn't\", 'all', 'haven', 'ourselves', 'themselves', 'its', 'other', 'have', 'with', 'to', 'and', 'ma', 'does', 'had', 'are', 'needn', 'out', 'off', 'isn', 'between', 'herself', 'be', 'for', 'hadn', 'here', 'those', 'my', 'such', 'did', 'll', \"shouldn't\", 'do', 'wasn', \"don't\", 'y', 'of', 'ain', 'been', 'more', \"needn't\", 'each', \"weren't\", 'against', 'up', 'd', 'during', 'having', \"haven't\", 'was', 'he', 'is', 'will', 'now', 'am', 'her', \"won't\", 'own', 'being', 'on', 'about', 'these', 'whom', 'so', 'shouldn', \"aren't\", 'while', 'has', 'doesn', 'after', 'yours', \"that'll\", \"you've\", 'from', 'only', 'yourselves', 'mightn', 'm', 'if', 're', \"couldn't\", 'but', \"wouldn't\", 'we', 'few', 'them', 'through', 'where', 've', 'this', 'at', 'you', 's', \"mustn't\", 'what'}\n",
      "{';', \"'\", '&', '^', '$', '?', '@', '+', '_', '-', '}', '/', '~', '.', '[', ']', ')', '=', ',', '(', '#', ':', '{', '!', '>', '%', '*', '<', '\"', '\\\\', '`', '|'}\n"
     ]
    }
   ],
   "execution_count": 173
  },
  {
   "metadata": {
    "ExecuteTime": {
     "end_time": "2024-05-16T22:35:49.317052Z",
     "start_time": "2024-05-16T22:35:49.312403Z"
    }
   },
   "cell_type": "code",
   "source": [
    "\n",
    "def text_preprocessing(text: string):\n",
    "    words = word_tokenize(text.lower())\n",
    "    filtered_words = [word for word in words if word not in stop_words and word not in punct]\n",
    "    return \" \".join(filtered_words)\n",
    "\n",
    "\n",
    "text = \"Reverse engineering is cool, isn't it?\"\n",
    "print(text_preprocessing(text))"
   ],
   "id": "165b18a956c94e27",
   "outputs": [
    {
     "name": "stdout",
     "output_type": "stream",
     "text": [
      "reverse engineering cool n't\n"
     ]
    }
   ],
   "execution_count": 259
  },
  {
   "metadata": {
    "ExecuteTime": {
     "end_time": "2024-05-16T21:49:19.195193Z",
     "start_time": "2024-05-16T21:49:18.731329Z"
    }
   },
   "cell_type": "code",
   "source": "nlp = spacy.load('en_core_web_sm')",
   "id": "f81fd3e487a4f315",
   "outputs": [],
   "execution_count": 175
  },
  {
   "metadata": {
    "ExecuteTime": {
     "end_time": "2024-05-16T21:49:19.623223Z",
     "start_time": "2024-05-16T21:49:19.619224Z"
    }
   },
   "cell_type": "code",
   "source": [
    "def preprocess(text: string):\n",
    "    text = nlp(text.lower())\n",
    "    processed_text = []\n",
    "    for token in text:\n",
    "        if (token.text not in punct) and (token.text not in stop_words):\n",
    "            processed_text.append(token.lemma_)\n",
    "\n",
    "    return \" \".join(processed_text)\n"
   ],
   "id": "aa52a7c420eef0c3",
   "outputs": [],
   "execution_count": 176
  },
  {
   "metadata": {
    "ExecuteTime": {
     "end_time": "2024-05-16T21:49:47.051322Z",
     "start_time": "2024-05-16T21:49:21.343859Z"
    }
   },
   "cell_type": "code",
   "source": [
    "\n",
    "processed_text = []\n",
    "for article in wiki_lst:\n",
    "    processed_text.append(preprocess(article))"
   ],
   "id": "4610ca6eb9e071f7",
   "outputs": [],
   "execution_count": 177
  },
  {
   "metadata": {
    "ExecuteTime": {
     "end_time": "2024-05-16T22:36:19.424841Z",
     "start_time": "2024-05-16T22:36:07.611869Z"
    }
   },
   "cell_type": "code",
   "source": [
    "\n",
    "\n",
    "# idk what is it some shaitan shit below\n",
    "from sklearn.feature_extraction.text import TfidfVectorizer\n",
    "\n",
    "vectorizer = TfidfVectorizer(preprocessor=preprocess)\n",
    "X = vectorizer.fit_transform(processed_text)"
   ],
   "id": "1dc5101da87f3413",
   "outputs": [],
   "execution_count": 260
  },
  {
   "metadata": {
    "ExecuteTime": {
     "end_time": "2024-05-16T21:50:10.584654Z",
     "start_time": "2024-05-16T21:50:10.581155Z"
    }
   },
   "cell_type": "code",
   "source": "print(X)",
   "id": "c0a7f930339fba60",
   "outputs": [
    {
     "name": "stdout",
     "output_type": "stream",
     "text": [
      "  (0, 10001)\t0.004602472197591245\n",
      "  (0, 639)\t0.004602472197591245\n",
      "  (0, 588)\t0.004602472197591245\n",
      "  (0, 189)\t0.00920494439518249\n",
      "  (0, 6440)\t0.003565808544092642\n",
      "  (0, 5529)\t0.004602472197591245\n",
      "  (0, 6879)\t0.004602472197591245\n",
      "  (0, 11078)\t0.004602472197591245\n",
      "  (0, 2218)\t0.004602472197591245\n",
      "  (0, 11114)\t0.004602472197591245\n",
      "  (0, 9051)\t0.004602472197591245\n",
      "  (0, 2213)\t0.004602472197591245\n",
      "  (0, 11440)\t0.004602472197591245\n",
      "  (0, 5409)\t0.003565808544092642\n",
      "  (0, 12362)\t0.0033595354425509667\n",
      "  (0, 511)\t0.002781602763530172\n",
      "  (0, 2873)\t0.00920494439518249\n",
      "  (0, 195)\t0.004602472197591245\n",
      "  (0, 3426)\t0.003565808544092642\n",
      "  (0, 9486)\t0.004143741223113437\n",
      "  (0, 2311)\t0.004143741223113437\n",
      "  (0, 3656)\t0.0023228717890523627\n",
      "  (0, 6419)\t0.004602472197591245\n",
      "  (0, 6560)\t0.0020554286667008948\n",
      "  (0, 5880)\t0.004602472197591245\n",
      "  :\t:\n",
      "  (41, 4757)\t0.01114762127577658\n",
      "  (41, 8402)\t0.018534988540728447\n",
      "  (41, 1597)\t0.012583591572559576\n",
      "  (41, 3038)\t0.01322869355421638\n",
      "  (41, 10613)\t0.012900381499081032\n",
      "  (41, 4633)\t0.01227754238084883\n",
      "  (41, 1249)\t0.14934457298516474\n",
      "  (41, 5010)\t0.011417121484189885\n",
      "  (41, 11137)\t0.02455508476169766\n",
      "  (41, 1899)\t0.022195359894539624\n",
      "  (41, 7647)\t0.020549436261838732\n",
      "  (41, 2151)\t0.010631618748147942\n",
      "  (41, 1478)\t0.01227754238084883\n",
      "  (41, 0)\t0.015937913734660008\n",
      "  (41, 550)\t0.018534988540728447\n",
      "  (41, 145)\t0.01507749283800106\n",
      "  (41, 1684)\t0.033778129816055116\n",
      "  (41, 11650)\t0.023963058835137285\n",
      "  (41, 8723)\t0.05427759052504462\n",
      "  (41, 4074)\t0.02314651106790717\n",
      "  (41, 10868)\t0.014676200704382277\n",
      "  (41, 8383)\t0.029041402724341175\n",
      "  (41, 11947)\t0.025800762998162065\n",
      "  (41, 1471)\t0.009240010145269855\n",
      "  (41, 1898)\t0.01507749283800106\n"
     ]
    }
   ],
   "execution_count": 179
  },
  {
   "metadata": {
    "ExecuteTime": {
     "end_time": "2024-05-16T21:50:10.599713Z",
     "start_time": "2024-05-16T21:50:10.586339Z"
    }
   },
   "cell_type": "code",
   "source": "print(vectorizer.get_feature_names_out())",
   "id": "3397aae1a0d0da9d",
   "outputs": [
    {
     "name": "stdout",
     "output_type": "stream",
     "text": [
      "['000' '00005' '0001283' ... 'ḥamīd' 'ḳavḳasosi' 'ἀλβανία']\n"
     ]
    }
   ],
   "execution_count": 180
  },
  {
   "metadata": {
    "ExecuteTime": {
     "end_time": "2024-05-16T22:36:52.779910Z",
     "start_time": "2024-05-16T22:36:52.634102Z"
    }
   },
   "cell_type": "code",
   "source": [
    "import matplotlib.pyplot as plt\n",
    "from sklearn.cluster import KMeans\n",
    "\n",
    "Sum_of_squared_distances = []\n",
    "K = range(1, 7)\n",
    "for k in K:\n",
    "    km = KMeans(n_clusters=k, max_iter=600)\n",
    "    km = km.fit(X)\n",
    "    Sum_of_squared_distances.append(km.inertia_)\n",
    "\n",
    "plt.plot(K, Sum_of_squared_distances, 'bx-')\n",
    "plt.xlabel('k')\n",
    "plt.ylabel('Sum_of_squared_distances')\n",
    "plt.title('Elbow Method For Optimal k')\n",
    "plt.show()"
   ],
   "id": "10925c8f1b94db6",
   "outputs": [
    {
     "data": {
      "text/plain": [
       "<Figure size 640x480 with 1 Axes>"
      ],
      "image/png": "[encoded data removed]"
     },
     "metadata": {},
     "output_type": "display_data"
    }
   ],
   "execution_count": 268
  },
  {
   "metadata": {
    "ExecuteTime": {
     "end_time": "2024-05-16T22:36:55.553273Z",
     "start_time": "2024-05-16T22:36:55.539928Z"
    }
   },
   "cell_type": "code",
   "source": [
    "true_k = 3\n",
    "model = KMeans(n_clusters=true_k, init='k-means++', max_iter=600)\n",
    "model.fit(X)\n",
    "labels = model.labels_\n",
    "wiki_cl = pd.DataFrame(list(zip(articles, labels)), columns=['title', 'cluster'])\n",
    "print(wiki_cl.sort_values(by=['cluster']))"
   ],
   "id": "2d35bd318b62f71b",
   "outputs": [
    {
     "name": "stdout",
     "output_type": "stream",
     "text": [
      "                         title  cluster\n",
      "41                     Kizlyar        0\n",
      "31                    Dagestan        0\n",
      "32                    Chechnya        0\n",
      "33                  Ingushetia        0\n",
      "34          Kabardino-Balkaria        0\n",
      "30                    Caucasus        0\n",
      "36                     Lezgins        0\n",
      "37                   Lezgistan        0\n",
      "38           Caucasian Albania        0\n",
      "39                 Makhachkala        0\n",
      "35                      Adygea        0\n",
      "40                     Derbent        0\n",
      "21        Lattice field theory        1\n",
      "29           Quantum chemistry        1\n",
      "28              Quantum optics        1\n",
      "27      AdS/CFT correspondence        1\n",
      "26                    M-theory        1\n",
      "25          Superstring theory        1\n",
      "24        Grand Unified Theory        1\n",
      "23               Supersymmetry        1\n",
      "22                Gauge theory        1\n",
      "20      Effective field theory        1\n",
      "18      Quantum chromodynamics        1\n",
      "17     Quantum electrodynamics        1\n",
      "16        Quantum field theory        1\n",
      "15              Standard Model        1\n",
      "19          Electroweak theory        1\n",
      "1          Automotive security        2\n",
      "2                   Cybercrime        2\n",
      "3         Cybersex trafficking        2\n",
      "4               Computer fraud        2\n",
      "5                  Cybergeddon        2\n",
      "6               Cyberterrorism        2\n",
      "9          Information warfare        2\n",
      "8      Electromagnetic warfare        2\n",
      "10          Internet security         2\n",
      "11             Mobile security        2\n",
      "12            Network security        2\n",
      "13             Copy protection        2\n",
      "14  Advanced persistent threat        2\n",
      "7                 Cyberwarfare        2\n",
      "0            Computer security        2\n"
     ]
    }
   ],
   "execution_count": 269
  },
  {
   "metadata": {
    "ExecuteTime": {
     "end_time": "2024-05-16T22:37:11.679287Z",
     "start_time": "2024-05-16T22:37:11.224676Z"
    }
   },
   "cell_type": "code",
   "source": [
    "from scipy.cluster.hierarchy import linkage, dendrogram\n",
    "\n",
    "\n",
    "mergings = linkage(X.toarray(), method='complete')\n",
    "dendrogram(mergings,\n",
    "           labels=articles,\n",
    "           leaf_rotation=90,\n",
    "           leaf_font_size=6,\n",
    "           )\n",
    "\n",
    "plt.show()"
   ],
   "id": "d7a74dab52ad7b56",
   "outputs": [
    {
     "data": {
      "text/plain": [
       "<Figure size 640x480 with 1 Axes>"
      ],
      "image/png": "[encoded data removed]"
     },
     "metadata": {},
     "output_type": "display_data"
    }
   ],
   "execution_count": 270
  },
  {
   "metadata": {
    "ExecuteTime": {
     "end_time": "2024-05-16T22:59:40.642301Z",
     "start_time": "2024-05-16T22:59:40.429140Z"
    }
   },
   "cell_type": "code",
   "source": [
    "import pandas as pd\n",
    "from sklearn.cluster import DBSCAN\n",
    "from sklearn.preprocessing import StandardScaler, normalize\n",
    "\n",
    "# Плотность\n",
    "# Масштабирование данных для улучшения результатов кластеризации\n",
    "scaler = StandardScaler(with_mean=False)\n",
    "X_scaled = scaler.fit_transform(X)\n",
    "X_normal = normalize(X_scaled)# Преобразование X в плотный формат и масштабирование\n",
    "# Инициализация DBSCAN с новыми параметрами\n",
    "# Начнем с eps, равным среднему расстоянию, и min_samples, равным двукратному среднему количеству ближайших соседей\n",
    "clustering = DBSCAN(eps=1.3598, min_samples=2).fit(X_normal)\n",
    "#1.34\n",
    "# Получение и вывод меток кластеров\n",
    "labels = clustering.labels_\n",
    "wiki_cl = pd.DataFrame(list(zip(articles, labels)), columns=['title', 'cluster'])\n",
    "print(wiki_cl.sort_values(by=['cluster']))\n",
    "\n",
    "clusterColor = {0: u'yellow', 1: u'green', 2: 'blue', -1: u'red', 3 : u'purple', 4:'black'}\n",
    "colors = [clusterColor[label] for label in labels]\n",
    "plt.figure()\n",
    "plt.scatter(articles, labels, c=colors)\n",
    "plt.show()\n",
    "\n"
   ],
   "id": "fecbd6296ada3c0e",
   "outputs": [
    {
     "name": "stdout",
     "output_type": "stream",
     "text": [
      "                         title  cluster\n",
      "37                   Lezgistan       -1\n",
      "5                  Cybergeddon       -1\n",
      "21        Lattice field theory       -1\n",
      "0            Computer security        0\n",
      "14  Advanced persistent threat        0\n",
      "13             Copy protection        0\n",
      "12            Network security        0\n",
      "10          Internet security         0\n",
      "9          Information warfare        0\n",
      "11             Mobile security        0\n",
      "7                 Cyberwarfare        0\n",
      "6               Cyberterrorism        0\n",
      "4               Computer fraud        0\n",
      "3         Cybersex trafficking        0\n",
      "2                   Cybercrime        0\n",
      "1          Automotive security        0\n",
      "8      Electromagnetic warfare        0\n",
      "29           Quantum chemistry        1\n",
      "28              Quantum optics        1\n",
      "27      AdS/CFT correspondence        1\n",
      "26                    M-theory        1\n",
      "25          Superstring theory        1\n",
      "24        Grand Unified Theory        1\n",
      "20      Effective field theory        1\n",
      "22                Gauge theory        1\n",
      "19          Electroweak theory        1\n",
      "18      Quantum chromodynamics        1\n",
      "17     Quantum electrodynamics        1\n",
      "16        Quantum field theory        1\n",
      "15              Standard Model        1\n",
      "23               Supersymmetry        1\n",
      "39                 Makhachkala        2\n",
      "38           Caucasian Albania        2\n",
      "36                     Lezgins        2\n",
      "35                      Adygea        2\n",
      "32                    Chechnya        2\n",
      "33                  Ingushetia        2\n",
      "31                    Dagestan        2\n",
      "30                    Caucasus        2\n",
      "40                     Derbent        2\n",
      "34          Kabardino-Balkaria        2\n",
      "41                     Kizlyar        2\n"
     ]
    },
    {
     "data": {
      "text/plain": [
       "<Figure size 640x480 with 1 Axes>"
      ],
      "image/png": "[encoded data removed]"
     },
     "metadata": {},
     "output_type": "display_data"
    }
   ],
   "execution_count": 352
  },
  {
   "metadata": {
    "ExecuteTime": {
     "end_time": "2024-05-16T21:57:43.344226Z",
     "start_time": "2024-05-16T21:57:43.342358Z"
    }
   },
   "cell_type": "code",
   "source": "",
   "id": "d310f9a158d25242",
   "outputs": [],
   "execution_count": 230
  }
 ],
 "metadata": {
  "kernelspec": {
   "display_name": "Python 3",
   "language": "python",
   "name": "python3"
  },
  "language_info": {
   "codemirror_mode": {
    "name": "ipython",
    "version": 2
   },
   "file_extension": ".py",
   "mimetype": "text/x-python",
   "name": "python",
   "nbconvert_exporter": "python",
   "pygments_lexer": "ipython2",
   "version": "2.7.6"
  }
 },
 "nbformat": 4,
 "nbformat_minor": 5
}
