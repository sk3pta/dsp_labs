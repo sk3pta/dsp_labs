{
 "cells": [
  {
   "metadata": {
    "ExecuteTime": {
     "end_time": "2024-05-16T21:11:03.871449Z",
     "start_time": "2024-05-16T21:11:03.866598Z"
    }
   },
   "cell_type": "code",
   "source": [
    "import string\n",
    "\n",
    "import pandas as pd\n",
    "import wikipedia\n",
    "\n",
    "articles = ['Computer security',\n",
    "            'Automotive security',\n",
    "            'Cybercrime', \n",
    "            'Cybersex trafficking',\n",
    "            'Computer fraud',\n",
    "            'Cybergeddon', \n",
    "            'Cyberterrorism',\n",
    "            'Cyberwarfare',\n",
    "            'Electromagnetic warfare',\n",
    "            'Information warfare',\n",
    "            'Internet security ', \n",
    "            'Mobile security', \n",
    "            'Network security', \n",
    "            'Copy protection',\n",
    "            'Advanced persistent threat',\n",
    "            \n",
    "            \n",
    "         'Johann Sebastian Bach',\n",
    "          'Eduard Schütt',\n",
    "          'Wolfgang Amadeus Mozart',\n",
    "          'Pyotr Ilyich Tchaikovsky',\n",
    "          'Frédéric Chopin',\n",
    "          'Giuseppe Verdi',\n",
    "          'Richard Wagner',\n",
    "          'Antonio Vivaldi',\n",
    "          'George Frideric Handel',\n",
    "          'Franz Schubert',\n",
    "          'Johannes Brahms',\n",
    "          'Igor Stravinsky',\n",
    "          'Dmitri Shostakovich',\n",
    "          'Claude Debussy',\n",
    "          'Maurice Ravel',\n",
    "            \n",
    "            \n",
    "            'Caucasus',\n",
    "            'Dagestan',\n",
    "            'Chechnya',\n",
    "            'Ingushetia',\n",
    "            'Kabardino-Balkaria',\n",
    "            'Adygea',\n",
    "            'Lezgins',\n",
    "            'Lezgistan',\n",
    "            'Caucasian Albania',\n",
    "            'Makhachkala',\n",
    "            'Derbent',\n",
    "            'Kizlyar',\n",
    "            \n",
    "            \n",
    "            \n",
    "            \n",
    "            ]\n"
   ],
   "id": "initial_id",
   "outputs": [],
   "execution_count": 135
  },
  {
   "metadata": {},
   "cell_type": "markdown",
   "source": "",
   "id": "6c9adcba7de8ec99"
  },
  {
   "metadata": {
    "ExecuteTime": {
     "end_time": "2024-05-16T21:11:57.756053Z",
     "start_time": "2024-05-16T21:11:06.109148Z"
    }
   },
   "cell_type": "code",
   "source": [
    "\n",
    "print(f\"Amount of articles : {len(articles)}\")\n",
    "count = 1\n",
    "wiki_lst = []\n",
    "for articl in articles:\n",
    "    wiki_lst.append(wikipedia.page(articl).content)\n",
    "    print(f\"{count}. appended : {articl}\")\n",
    "    count += 1\n"
   ],
   "id": "c45c90432ecc6ab0",
   "outputs": [
    {
     "name": "stdout",
     "output_type": "stream",
     "text": [
      "Amount of articles : 42\n",
      "1. appended : Computer security\n",
      "2. appended : Automotive security\n",
      "3. appended : Cybercrime\n",
      "4. appended : Cybersex trafficking\n",
      "5. appended : Computer fraud\n",
      "6. appended : Cybergeddon\n",
      "7. appended : Cyberterrorism\n",
      "8. appended : Cyberwarfare\n",
      "9. appended : Electromagnetic warfare\n",
      "10. appended : Information warfare\n",
      "11. appended : Internet security \n",
      "12. appended : Mobile security\n",
      "13. appended : Network security\n",
      "14. appended : Copy protection\n",
      "15. appended : Advanced persistent threat\n",
      "16. appended : Johann Sebastian Bach\n",
      "17. appended : Eduard Schütt\n",
      "18. appended : Wolfgang Amadeus Mozart\n",
      "19. appended : Pyotr Ilyich Tchaikovsky\n",
      "20. appended : Frédéric Chopin\n",
      "21. appended : Giuseppe Verdi\n",
      "22. appended : Richard Wagner\n",
      "23. appended : Antonio Vivaldi\n",
      "24. appended : George Frideric Handel\n",
      "25. appended : Franz Schubert\n",
      "26. appended : Johannes Brahms\n",
      "27. appended : Igor Stravinsky\n",
      "28. appended : Dmitri Shostakovich\n",
      "29. appended : Claude Debussy\n",
      "30. appended : Maurice Ravel\n",
      "31. appended : Caucasus\n",
      "32. appended : Dagestan\n",
      "33. appended : Chechnya\n",
      "34. appended : Ingushetia\n",
      "35. appended : Kabardino-Balkaria\n",
      "36. appended : Adygea\n",
      "37. appended : Lezgins\n",
      "38. appended : Lezgistan\n",
      "39. appended : Caucasian Albania\n",
      "40. appended : Makhachkala\n",
      "41. appended : Derbent\n",
      "42. appended : Kizlyar\n"
     ]
    }
   ],
   "execution_count": 136
  },
  {
   "metadata": {
    "ExecuteTime": {
     "end_time": "2024-05-16T21:09:08.724290Z",
     "start_time": "2024-05-16T21:09:08.721145Z"
    }
   },
   "cell_type": "code",
   "source": [
    "import nltk\n",
    "import spacy\n",
    "from nltk.corpus import stopwords\n",
    "from nltk.tokenize import word_tokenize\n",
    "import string\n"
   ],
   "id": "eea37ae62d217d50",
   "outputs": [],
   "execution_count": 123
  },
  {
   "metadata": {
    "ExecuteTime": {
     "end_time": "2024-05-16T21:09:09.479920Z",
     "start_time": "2024-05-16T21:09:09.477054Z"
    }
   },
   "cell_type": "code",
   "source": "print(len(wiki_lst))",
   "id": "86e5045d4e7b7874",
   "outputs": [
    {
     "name": "stdout",
     "output_type": "stream",
     "text": [
      "41\n"
     ]
    }
   ],
   "execution_count": 124
  },
  {
   "metadata": {
    "ExecuteTime": {
     "end_time": "2024-05-16T20:56:52.914096Z",
     "start_time": "2024-05-16T20:56:52.516231Z"
    }
   },
   "cell_type": "code",
   "source": [
    "# Прерпоцессинг текста, приведение к ловеркейсу, стемминг\n",
    "nltk.download('stopwords')\n",
    "nltk.download('punkt')\n"
   ],
   "id": "e9edf9d854699d72",
   "outputs": [
    {
     "name": "stderr",
     "output_type": "stream",
     "text": [
      "[nltk_data] Downloading package stopwords to /home/cere/nltk_data...\n",
      "[nltk_data]   Package stopwords is already up-to-date!\n",
      "[nltk_data] Downloading package punkt to /home/cere/nltk_data...\n",
      "[nltk_data]   Package punkt is already up-to-date!\n"
     ]
    },
    {
     "data": {
      "text/plain": [
       "True"
      ]
     },
     "execution_count": 97,
     "metadata": {},
     "output_type": "execute_result"
    }
   ],
   "execution_count": 97
  },
  {
   "metadata": {
    "ExecuteTime": {
     "end_time": "2024-05-16T21:12:14.966459Z",
     "start_time": "2024-05-16T21:12:14.961477Z"
    }
   },
   "cell_type": "code",
   "source": [
    "stop_words = set(stopwords.words('english'))\n",
    "punct = set(string.punctuation)\n",
    "# - ты садист?\n",
    "# - я дивергент\n",
    "print(stop_words)\n",
    "print(punct)"
   ],
   "id": "fbc054ba587c4acb",
   "outputs": [
    {
     "name": "stdout",
     "output_type": "stream",
     "text": [
      "{'i', 'o', 'won', 'itself', 'doing', 'into', 'don', 'nor', 'me', 'our', 'should', 'no', 'until', 'it', 'because', 'myself', 'in', 'hers', 'aren', 'as', \"you're\", 'him', 'by', 'or', \"hasn't\", 'any', 'himself', 'their', 'before', 'then', \"shan't\", \"mightn't\", \"hadn't\", 'wouldn', 'hasn', 'most', 'both', 'than', 'theirs', 'just', 'couldn', 't', 'can', 'didn', 'the', 'further', 'that', \"she's\", 'down', 'why', 'they', \"it's\", 'mustn', 'were', 'a', \"isn't\", \"wasn't\", \"you'd\", 'she', 'weren', 'how', \"you'll\", 'who', 'some', \"doesn't\", 'too', 'ours', 'an', 'there', 'once', 'your', 'when', 'below', 'over', 'shan', 'under', 'same', \"should've\", 'yourself', 'his', 'again', 'which', 'not', 'very', 'above', \"didn't\", 'all', 'haven', 'ourselves', 'themselves', 'its', 'other', 'have', 'with', 'to', 'and', 'ma', 'does', 'had', 'are', 'needn', 'out', 'off', 'isn', 'between', 'herself', 'be', 'for', 'hadn', 'here', 'those', 'my', 'such', 'did', 'll', \"shouldn't\", 'do', 'wasn', \"don't\", 'y', 'of', 'ain', 'been', 'more', \"needn't\", 'each', \"weren't\", 'against', 'up', 'd', 'during', 'having', \"haven't\", 'was', 'he', 'is', 'will', 'now', 'am', 'her', \"won't\", 'own', 'being', 'on', 'about', 'these', 'whom', 'so', 'shouldn', \"aren't\", 'while', 'has', 'doesn', 'after', 'yours', \"that'll\", \"you've\", 'from', 'only', 'yourselves', 'mightn', 'm', 'if', 're', \"couldn't\", 'but', \"wouldn't\", 'we', 'few', 'them', 'through', 'where', 've', 'this', 'at', 'you', 's', \"mustn't\", 'what'}\n",
      "{';', \"'\", '&', '^', '$', '?', '@', '+', '_', '-', '}', '/', '~', '.', '[', ']', ')', '=', ',', '(', '#', ':', '{', '!', '>', '%', '*', '<', '\"', '\\\\', '`', '|'}\n"
     ]
    }
   ],
   "execution_count": 137
  },
  {
   "metadata": {
    "ExecuteTime": {
     "end_time": "2024-05-16T21:12:15.859132Z",
     "start_time": "2024-05-16T21:12:15.854874Z"
    }
   },
   "cell_type": "code",
   "source": [
    "\n",
    "def text_preprocessing(text: string):\n",
    "    words = word_tokenize(text.lower())\n",
    "    filtered_words = [word for word in words if word not in stop_words and word not in punct]\n",
    "    return \" \".join(filtered_words)\n",
    "\n",
    "\n",
    "text = \"Reverse engineering is cool, isn't it?\"\n",
    "print(text_preprocessing(text))"
   ],
   "id": "165b18a956c94e27",
   "outputs": [
    {
     "name": "stdout",
     "output_type": "stream",
     "text": [
      "reverse engineering cool n't\n"
     ]
    }
   ],
   "execution_count": 138
  },
  {
   "metadata": {
    "ExecuteTime": {
     "end_time": "2024-05-16T21:12:17.525600Z",
     "start_time": "2024-05-16T21:12:17.078765Z"
    }
   },
   "cell_type": "code",
   "source": "nlp = spacy.load('en_core_web_sm')",
   "id": "f81fd3e487a4f315",
   "outputs": [],
   "execution_count": 139
  },
  {
   "metadata": {
    "ExecuteTime": {
     "end_time": "2024-05-16T21:12:18.017263Z",
     "start_time": "2024-05-16T21:12:18.013672Z"
    }
   },
   "cell_type": "code",
   "source": [
    "def preprocess(text: string):\n",
    "    text = nlp(text.lower())\n",
    "    processed_text = []\n",
    "    for token in text:\n",
    "        if (token.text not in punct) and (token.text not in stop_words):\n",
    "            processed_text.append(token.lemma_)\n",
    "\n",
    "    return \" \".join(processed_text)\n"
   ],
   "id": "aa52a7c420eef0c3",
   "outputs": [],
   "execution_count": 140
  },
  {
   "metadata": {
    "ExecuteTime": {
     "end_time": "2024-05-16T21:12:49.172040Z",
     "start_time": "2024-05-16T21:12:19.102952Z"
    }
   },
   "cell_type": "code",
   "source": [
    "\n",
    "processed_text = []\n",
    "for article in wiki_lst:\n",
    "    processed_text.append(preprocess(article))"
   ],
   "id": "4610ca6eb9e071f7",
   "outputs": [],
   "execution_count": 141
  },
  {
   "metadata": {
    "ExecuteTime": {
     "end_time": "2024-05-16T21:13:17.476100Z",
     "start_time": "2024-05-16T21:12:50.616441Z"
    }
   },
   "cell_type": "code",
   "source": [
    "\n",
    "\n",
    "# idk what is it some shaitan shit below\n",
    "from sklearn.feature_extraction.text import TfidfVectorizer\n",
    "\n",
    "vectorizer = TfidfVectorizer(preprocessor=preprocess)\n",
    "X = vectorizer.fit_transform(wiki_lst)"
   ],
   "id": "1dc5101da87f3413",
   "outputs": [],
   "execution_count": 142
  },
  {
   "metadata": {
    "ExecuteTime": {
     "end_time": "2024-05-16T21:13:24.574570Z",
     "start_time": "2024-05-16T21:13:24.569237Z"
    }
   },
   "cell_type": "code",
   "source": "print(X)",
   "id": "c0a7f930339fba60",
   "outputs": [
    {
     "name": "stdout",
     "output_type": "stream",
     "text": [
      "  (0, 13749)\t0.004759467479180089\n",
      "  (0, 744)\t0.004759467479180089\n",
      "  (0, 694)\t0.004759467479180089\n",
      "  (0, 159)\t0.009518934958360177\n",
      "  (0, 8725)\t0.003948511595182461\n",
      "  (0, 7519)\t0.004759467479180089\n",
      "  (0, 9314)\t0.004759467479180089\n",
      "  (0, 15279)\t0.004759467479180089\n",
      "  (0, 2801)\t0.004759467479180089\n",
      "  (0, 15337)\t0.004759467479180089\n",
      "  (0, 12475)\t0.004759467479180089\n",
      "  (0, 2798)\t0.004759467479180089\n",
      "  (0, 15801)\t0.004759467479180089\n",
      "  (0, 7331)\t0.0036874421124094073\n",
      "  (0, 17128)\t0.0036874421124094073\n",
      "  (0, 617)\t0.0029997540314268835\n",
      "  (0, 3799)\t0.009518934958360177\n",
      "  (0, 164)\t0.004759467479180089\n",
      "  (0, 4497)\t0.004285088697302301\n",
      "  (0, 13018)\t0.004285088697302301\n",
      "  (0, 2931)\t0.004285088697302301\n",
      "  (0, 4778)\t0.002255671321444091\n",
      "  (0, 8698)\t0.004759467479180089\n",
      "  (0, 8895)\t0.0021255415513552274\n",
      "  (0, 8032)\t0.004759467479180089\n",
      "  :\t:\n",
      "  (41, 6307)\t0.010472462718093049\n",
      "  (41, 11538)\t0.01853453187201971\n",
      "  (41, 1888)\t0.011509123317404857\n",
      "  (41, 4018)\t0.012074165330633152\n",
      "  (41, 14669)\t0.011509123317404857\n",
      "  (41, 6143)\t0.011787363047295479\n",
      "  (41, 1393)\t0.15418761229414765\n",
      "  (41, 6708)\t0.010472462718093049\n",
      "  (41, 15366)\t0.023018246634809714\n",
      "  (41, 2298)\t0.022915124920463638\n",
      "  (41, 10493)\t0.015152129728766086\n",
      "  (41, 2687)\t0.01072101981534308\n",
      "  (41, 1715)\t0.01237007395448184\n",
      "  (41, 0)\t0.013318723146535014\n",
      "  (41, 659)\t0.015152129728766086\n",
      "  (41, 119)\t0.013318723146535014\n",
      "  (41, 2004)\t0.02474014790896368\n",
      "  (41, 16099)\t0.029510919408789887\n",
      "  (41, 12028)\t0.04603649326961943\n",
      "  (41, 5368)\t0.019779089687921574\n",
      "  (41, 15020)\t0.014009434552682767\n",
      "  (41, 11515)\t0.030691087155174004\n",
      "  (41, 16501)\t0.02663744629307003\n",
      "  (41, 1705)\t0.009539650978910245\n",
      "  (41, 2297)\t0.013318723146535014\n"
     ]
    }
   ],
   "execution_count": 143
  },
  {
   "metadata": {
    "ExecuteTime": {
     "end_time": "2024-05-16T21:13:25.405647Z",
     "start_time": "2024-05-16T21:13:25.383126Z"
    }
   },
   "cell_type": "code",
   "source": "print(vectorizer.get_feature_names_out())",
   "id": "3397aae1a0d0da9d",
   "outputs": [
    {
     "name": "stdout",
     "output_type": "stream",
     "text": [
      "['000' '00161' '0020' ... 'ḥamīd' 'ḳavḳasosi' 'ἀλβανία']\n"
     ]
    }
   ],
   "execution_count": 144
  },
  {
   "metadata": {
    "ExecuteTime": {
     "end_time": "2024-05-16T21:14:42.348590Z",
     "start_time": "2024-05-16T21:14:42.201816Z"
    }
   },
   "cell_type": "code",
   "source": [
    "import matplotlib.pyplot as plt\n",
    "from sklearn.cluster import KMeans\n",
    "\n",
    "Sum_of_squared_distances = []\n",
    "K = range(1, 7)\n",
    "for k in K:\n",
    "    km = KMeans(n_clusters=k, max_iter=600)\n",
    "    km = km.fit(X)\n",
    "    Sum_of_squared_distances.append(km.inertia_)\n",
    "\n",
    "plt.plot(K, Sum_of_squared_distances, 'bx-')\n",
    "plt.xlabel('k')\n",
    "plt.ylabel('Sum_of_squared_distances')\n",
    "plt.title('Elbow Method For Optimal k')\n",
    "plt.show()"
   ],
   "id": "10925c8f1b94db6",
   "outputs": [
    {
     "data": {
      "text/plain": [
       "<Figure size 640x480 with 1 Axes>"
      ],
      "image/png": "[encoded data removed]"
     },
     "metadata": {},
     "output_type": "display_data"
    }
   ],
   "execution_count": 159
  },
  {
   "metadata": {
    "ExecuteTime": {
     "end_time": "2024-05-16T21:14:45.998724Z",
     "start_time": "2024-05-16T21:14:45.982110Z"
    }
   },
   "cell_type": "code",
   "source": [
    "true_k = 3\n",
    "model = KMeans(n_clusters=true_k, init='k-means++', max_iter=600)\n",
    "model.fit(X)\n",
    "labels = model.labels_\n",
    "wiki_cl = pd.DataFrame(list(zip(articles, labels)), columns=['title', 'cluster'])\n",
    "print(wiki_cl.sort_values(by=['cluster']))"
   ],
   "id": "2d35bd318b62f71b",
   "outputs": [
    {
     "name": "stdout",
     "output_type": "stream",
     "text": [
      "                         title  cluster\n",
      "20              Giuseppe Verdi        0\n",
      "22             Antonio Vivaldi        0\n",
      "21              Richard Wagner        0\n",
      "25             Johannes Brahms        0\n",
      "19             Frédéric Chopin        0\n",
      "18    Pyotr Ilyich Tchaikovsky        0\n",
      "17     Wolfgang Amadeus Mozart        0\n",
      "16               Eduard Schütt        0\n",
      "15       Johann Sebastian Bach        0\n",
      "26             Igor Stravinsky        0\n",
      "27         Dmitri Shostakovich        0\n",
      "23      George Frideric Handel        0\n",
      "28              Claude Debussy        0\n",
      "29               Maurice Ravel        0\n",
      "24              Franz Schubert        0\n",
      "30                    Caucasus        1\n",
      "31                    Dagestan        1\n",
      "32                    Chechnya        1\n",
      "33                  Ingushetia        1\n",
      "34          Kabardino-Balkaria        1\n",
      "35                      Adygea        1\n",
      "36                     Lezgins        1\n",
      "37                   Lezgistan        1\n",
      "38           Caucasian Albania        1\n",
      "39                 Makhachkala        1\n",
      "41                     Kizlyar        1\n",
      "40                     Derbent        1\n",
      "14  Advanced persistent threat        2\n",
      "13             Copy protection        2\n",
      "12            Network security        2\n",
      "11             Mobile security        2\n",
      "10          Internet security         2\n",
      "9          Information warfare        2\n",
      "8      Electromagnetic warfare        2\n",
      "7                 Cyberwarfare        2\n",
      "6               Cyberterrorism        2\n",
      "5                  Cybergeddon        2\n",
      "4               Computer fraud        2\n",
      "3         Cybersex trafficking        2\n",
      "2                   Cybercrime        2\n",
      "1          Automotive security        2\n",
      "0            Computer security        2\n"
     ]
    }
   ],
   "execution_count": 160
  },
  {
   "metadata": {
    "ExecuteTime": {
     "end_time": "2024-05-16T21:15:34.309514Z",
     "start_time": "2024-05-16T21:15:33.905697Z"
    }
   },
   "cell_type": "code",
   "source": [
    "from scipy.cluster.hierarchy import linkage, dendrogram\n",
    "\n",
    "\n",
    "mergings = linkage(X.toarray(), method='complete')\n",
    "dendrogram(mergings,\n",
    "           labels=articles,\n",
    "           leaf_rotation=90,\n",
    "           leaf_font_size=6,\n",
    "           )\n",
    "\n",
    "plt.show()"
   ],
   "id": "d7a74dab52ad7b56",
   "outputs": [
    {
     "data": {
      "text/plain": [
       "<Figure size 640x480 with 1 Axes>"
      ],
      "image/png": "[encoded data removed]"
     },
     "metadata": {},
     "output_type": "display_data"
    }
   ],
   "execution_count": 161
  },
  {
   "metadata": {},
   "cell_type": "code",
   "outputs": [],
   "execution_count": null,
   "source": "",
   "id": "fecbd6296ada3c0e"
  }
 ],
 "metadata": {
  "kernelspec": {
   "display_name": "Python 3",
   "language": "python",
   "name": "python3"
  },
  "language_info": {
   "codemirror_mode": {
    "name": "ipython",
    "version": 2
   },
   "file_extension": ".py",
   "mimetype": "text/x-python",
   "name": "python",
   "nbconvert_exporter": "python",
   "pygments_lexer": "ipython2",
   "version": "2.7.6"
  }
 },
 "nbformat": 4,
 "nbformat_minor": 5
}
