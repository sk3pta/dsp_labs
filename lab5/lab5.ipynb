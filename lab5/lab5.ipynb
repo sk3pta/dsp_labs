{
 "cells": [
  {
   "metadata": {
    "ExecuteTime": {
     "end_time": "2024-05-16T21:48:18.091135Z",
     "start_time": "2024-05-16T21:48:18.085738Z"
    }
   },
   "cell_type": "code",
   "source": [
    "import string\n",
    "\n",
    "import mglearn\n",
    "import pandas as pd\n",
    "import wikipedia\n",
    "\n",
    "articles = ['Computer security',\n",
    "            'Automotive security',\n",
    "            'Cybercrime', \n",
    "            'Cybersex trafficking',\n",
    "            'Computer fraud',\n",
    "            'Cybergeddon', \n",
    "            'Cyberterrorism',\n",
    "            'Cyberwarfare',\n",
    "            'Electromagnetic warfare',\n",
    "            'Information warfare',\n",
    "            'Internet security ', \n",
    "            'Mobile security', \n",
    "            'Network security', \n",
    "            'Copy protection',\n",
    "            'Advanced persistent threat',\n",
    "            \n",
    "            \n",
    "        'Standard Model','Quantum field theory','Quantum electrodynamics','Quantum chromodynamics','Electroweak theory','Effective field theory','Lattice field theory','Gauge theory','Supersymmetry',\n",
    "          'Grand Unified Theory','Superstring theory','M-theory','AdS/CFT correspondence','Quantum optics','Quantum chemistry', \n",
    "            \n",
    "            \n",
    "            'Caucasus',\n",
    "            'Dagestan',\n",
    "            'Chechnya',\n",
    "            'Ingushetia',\n",
    "            'Kabardino-Balkaria',\n",
    "            'Adygea',\n",
    "            'Lezgins',\n",
    "            'Lezgistan',\n",
    "            'Caucasian Albania',\n",
    "            'Makhachkala',\n",
    "            'Derbent',\n",
    "            'Kizlyar',\n",
    "            \n",
    "            \n",
    "            \n",
    "            \n",
    "            ]\n"
   ],
   "id": "initial_id",
   "outputs": [],
   "execution_count": 170
  },
  {
   "metadata": {},
   "cell_type": "markdown",
   "source": "",
   "id": "6c9adcba7de8ec99"
  },
  {
   "metadata": {
    "ExecuteTime": {
     "end_time": "2024-05-16T21:49:10.111371Z",
     "start_time": "2024-05-16T21:48:19.134186Z"
    }
   },
   "cell_type": "code",
   "source": [
    "\n",
    "print(f\"Amount of articles : {len(articles)}\")\n",
    "count = 1\n",
    "wiki_lst = []\n",
    "for articl in articles:\n",
    "    wiki_lst.append(wikipedia.page(articl).content)\n",
    "    print(f\"{count}. appended : {articl}\")\n",
    "    count += 1\n"
   ],
   "id": "c45c90432ecc6ab0",
   "outputs": [
    {
     "name": "stdout",
     "output_type": "stream",
     "text": [
      "Amount of articles : 42\n",
      "1. appended : Computer security\n",
      "2. appended : Automotive security\n",
      "3. appended : Cybercrime\n",
      "4. appended : Cybersex trafficking\n",
      "5. appended : Computer fraud\n",
      "6. appended : Cybergeddon\n",
      "7. appended : Cyberterrorism\n",
      "8. appended : Cyberwarfare\n",
      "9. appended : Electromagnetic warfare\n",
      "10. appended : Information warfare\n",
      "11. appended : Internet security \n",
      "12. appended : Mobile security\n",
      "13. appended : Network security\n",
      "14. appended : Copy protection\n",
      "15. appended : Advanced persistent threat\n",
      "16. appended : Standard Model\n",
      "17. appended : Quantum field theory\n",
      "18. appended : Quantum electrodynamics\n",
      "19. appended : Quantum chromodynamics\n",
      "20. appended : Electroweak theory\n",
      "21. appended : Effective field theory\n",
      "22. appended : Lattice field theory\n",
      "23. appended : Gauge theory\n",
      "24. appended : Supersymmetry\n",
      "25. appended : Grand Unified Theory\n",
      "26. appended : Superstring theory\n",
      "27. appended : M-theory\n",
      "28. appended : AdS/CFT correspondence\n",
      "29. appended : Quantum optics\n",
      "30. appended : Quantum chemistry\n",
      "31. appended : Caucasus\n",
      "32. appended : Dagestan\n",
      "33. appended : Chechnya\n",
      "34. appended : Ingushetia\n",
      "35. appended : Kabardino-Balkaria\n",
      "36. appended : Adygea\n",
      "37. appended : Lezgins\n",
      "38. appended : Lezgistan\n",
      "39. appended : Caucasian Albania\n",
      "40. appended : Makhachkala\n",
      "41. appended : Derbent\n",
      "42. appended : Kizlyar\n"
     ]
    }
   ],
   "execution_count": 171
  },
  {
   "metadata": {
    "ExecuteTime": {
     "end_time": "2024-05-16T21:09:08.724290Z",
     "start_time": "2024-05-16T21:09:08.721145Z"
    }
   },
   "cell_type": "code",
   "source": [
    "import nltk\n",
    "import spacy\n",
    "from nltk.corpus import stopwords\n",
    "from nltk.tokenize import word_tokenize\n",
    "import string\n"
   ],
   "id": "eea37ae62d217d50",
   "outputs": [],
   "execution_count": 123
  },
  {
   "metadata": {
    "ExecuteTime": {
     "end_time": "2024-05-16T21:09:09.479920Z",
     "start_time": "2024-05-16T21:09:09.477054Z"
    }
   },
   "cell_type": "code",
   "source": "print(len(wiki_lst))",
   "id": "86e5045d4e7b7874",
   "outputs": [
    {
     "name": "stdout",
     "output_type": "stream",
     "text": [
      "41\n"
     ]
    }
   ],
   "execution_count": 124
  },
  {
   "metadata": {
    "ExecuteTime": {
     "end_time": "2024-05-16T21:49:15.483081Z",
     "start_time": "2024-05-16T21:49:15.477641Z"
    }
   },
   "cell_type": "code",
   "source": [
    "# Прерпоцессинг текста, приведение к ловеркейсу, стемминг\n",
    "nltk.download('stopwords')\n",
    "nltk.download('punkt')\n"
   ],
   "id": "e9edf9d854699d72",
   "outputs": [
    {
     "name": "stderr",
     "output_type": "stream",
     "text": [
      "[nltk_data] Downloading package stopwords to /home/cere/nltk_data...\n",
      "[nltk_data]   Package stopwords is already up-to-date!\n",
      "[nltk_data] Downloading package punkt to /home/cere/nltk_data...\n",
      "[nltk_data]   Package punkt is already up-to-date!\n"
     ]
    },
    {
     "data": {
      "text/plain": [
       "True"
      ]
     },
     "execution_count": 172,
     "metadata": {},
     "output_type": "execute_result"
    }
   ],
   "execution_count": 172
  },
  {
   "metadata": {
    "ExecuteTime": {
     "end_time": "2024-05-16T21:49:16.320562Z",
     "start_time": "2024-05-16T21:49:16.315789Z"
    }
   },
   "cell_type": "code",
   "source": [
    "stop_words = set(stopwords.words('english'))\n",
    "punct = set(string.punctuation)\n",
    "# - ты садист?\n",
    "# - я дивергент\n",
    "print(stop_words)\n",
    "print(punct)"
   ],
   "id": "fbc054ba587c4acb",
   "outputs": [
    {
     "name": "stdout",
     "output_type": "stream",
     "text": [
      "{'i', 'o', 'won', 'itself', 'doing', 'into', 'don', 'nor', 'me', 'our', 'should', 'no', 'until', 'it', 'because', 'myself', 'in', 'hers', 'aren', 'as', \"you're\", 'him', 'by', 'or', \"hasn't\", 'any', 'himself', 'their', 'before', 'then', \"shan't\", \"mightn't\", \"hadn't\", 'wouldn', 'hasn', 'most', 'both', 'than', 'theirs', 'just', 'couldn', 't', 'can', 'didn', 'the', 'further', 'that', \"she's\", 'down', 'why', 'they', \"it's\", 'mustn', 'were', 'a', \"isn't\", \"wasn't\", \"you'd\", 'she', 'weren', 'how', \"you'll\", 'who', 'some', \"doesn't\", 'too', 'ours', 'an', 'there', 'once', 'your', 'when', 'below', 'over', 'shan', 'under', 'same', \"should've\", 'yourself', 'his', 'again', 'which', 'not', 'very', 'above', \"didn't\", 'all', 'haven', 'ourselves', 'themselves', 'its', 'other', 'have', 'with', 'to', 'and', 'ma', 'does', 'had', 'are', 'needn', 'out', 'off', 'isn', 'between', 'herself', 'be', 'for', 'hadn', 'here', 'those', 'my', 'such', 'did', 'll', \"shouldn't\", 'do', 'wasn', \"don't\", 'y', 'of', 'ain', 'been', 'more', \"needn't\", 'each', \"weren't\", 'against', 'up', 'd', 'during', 'having', \"haven't\", 'was', 'he', 'is', 'will', 'now', 'am', 'her', \"won't\", 'own', 'being', 'on', 'about', 'these', 'whom', 'so', 'shouldn', \"aren't\", 'while', 'has', 'doesn', 'after', 'yours', \"that'll\", \"you've\", 'from', 'only', 'yourselves', 'mightn', 'm', 'if', 're', \"couldn't\", 'but', \"wouldn't\", 'we', 'few', 'them', 'through', 'where', 've', 'this', 'at', 'you', 's', \"mustn't\", 'what'}\n",
      "{';', \"'\", '&', '^', '$', '?', '@', '+', '_', '-', '}', '/', '~', '.', '[', ']', ')', '=', ',', '(', '#', ':', '{', '!', '>', '%', '*', '<', '\"', '\\\\', '`', '|'}\n"
     ]
    }
   ],
   "execution_count": 173
  },
  {
   "metadata": {
    "ExecuteTime": {
     "end_time": "2024-05-16T21:49:17.416240Z",
     "start_time": "2024-05-16T21:49:17.411711Z"
    }
   },
   "cell_type": "code",
   "source": [
    "\n",
    "def text_preprocessing(text: string):\n",
    "    words = word_tokenize(text.lower())\n",
    "    filtered_words = [word for word in words if word not in stop_words and word not in punct]\n",
    "    return \" \".join(filtered_words)\n",
    "\n",
    "\n",
    "text = \"Reverse engineering is cool, isn't it?\"\n",
    "print(text_preprocessing(text))"
   ],
   "id": "165b18a956c94e27",
   "outputs": [
    {
     "name": "stdout",
     "output_type": "stream",
     "text": [
      "reverse engineering cool n't\n"
     ]
    }
   ],
   "execution_count": 174
  },
  {
   "metadata": {
    "ExecuteTime": {
     "end_time": "2024-05-16T21:49:19.195193Z",
     "start_time": "2024-05-16T21:49:18.731329Z"
    }
   },
   "cell_type": "code",
   "source": "nlp = spacy.load('en_core_web_sm')",
   "id": "f81fd3e487a4f315",
   "outputs": [],
   "execution_count": 175
  },
  {
   "metadata": {
    "ExecuteTime": {
     "end_time": "2024-05-16T21:49:19.623223Z",
     "start_time": "2024-05-16T21:49:19.619224Z"
    }
   },
   "cell_type": "code",
   "source": [
    "def preprocess(text: string):\n",
    "    text = nlp(text.lower())\n",
    "    processed_text = []\n",
    "    for token in text:\n",
    "        if (token.text not in punct) and (token.text not in stop_words):\n",
    "            processed_text.append(token.lemma_)\n",
    "\n",
    "    return \" \".join(processed_text)\n"
   ],
   "id": "aa52a7c420eef0c3",
   "outputs": [],
   "execution_count": 176
  },
  {
   "metadata": {
    "ExecuteTime": {
     "end_time": "2024-05-16T21:49:47.051322Z",
     "start_time": "2024-05-16T21:49:21.343859Z"
    }
   },
   "cell_type": "code",
   "source": [
    "\n",
    "processed_text = []\n",
    "for article in wiki_lst:\n",
    "    processed_text.append(preprocess(article))"
   ],
   "id": "4610ca6eb9e071f7",
   "outputs": [],
   "execution_count": 177
  },
  {
   "metadata": {
    "ExecuteTime": {
     "end_time": "2024-05-16T21:50:10.579780Z",
     "start_time": "2024-05-16T21:49:47.052467Z"
    }
   },
   "cell_type": "code",
   "source": [
    "\n",
    "\n",
    "# idk what is it some shaitan shit below\n",
    "from sklearn.feature_extraction.text import TfidfVectorizer\n",
    "\n",
    "vectorizer = TfidfVectorizer(preprocessor=preprocess)\n",
    "X = vectorizer.fit_transform(wiki_lst)"
   ],
   "id": "1dc5101da87f3413",
   "outputs": [],
   "execution_count": 178
  },
  {
   "metadata": {
    "ExecuteTime": {
     "end_time": "2024-05-16T21:50:10.584654Z",
     "start_time": "2024-05-16T21:50:10.581155Z"
    }
   },
   "cell_type": "code",
   "source": "print(X)",
   "id": "c0a7f930339fba60",
   "outputs": [
    {
     "name": "stdout",
     "output_type": "stream",
     "text": [
      "  (0, 10001)\t0.004602472197591245\n",
      "  (0, 639)\t0.004602472197591245\n",
      "  (0, 588)\t0.004602472197591245\n",
      "  (0, 189)\t0.00920494439518249\n",
      "  (0, 6440)\t0.003565808544092642\n",
      "  (0, 5529)\t0.004602472197591245\n",
      "  (0, 6879)\t0.004602472197591245\n",
      "  (0, 11078)\t0.004602472197591245\n",
      "  (0, 2218)\t0.004602472197591245\n",
      "  (0, 11114)\t0.004602472197591245\n",
      "  (0, 9051)\t0.004602472197591245\n",
      "  (0, 2213)\t0.004602472197591245\n",
      "  (0, 11440)\t0.004602472197591245\n",
      "  (0, 5409)\t0.003565808544092642\n",
      "  (0, 12362)\t0.0033595354425509667\n",
      "  (0, 511)\t0.002781602763530172\n",
      "  (0, 2873)\t0.00920494439518249\n",
      "  (0, 195)\t0.004602472197591245\n",
      "  (0, 3426)\t0.003565808544092642\n",
      "  (0, 9486)\t0.004143741223113437\n",
      "  (0, 2311)\t0.004143741223113437\n",
      "  (0, 3656)\t0.0023228717890523627\n",
      "  (0, 6419)\t0.004602472197591245\n",
      "  (0, 6560)\t0.0020554286667008948\n",
      "  (0, 5880)\t0.004602472197591245\n",
      "  :\t:\n",
      "  (41, 4757)\t0.01114762127577658\n",
      "  (41, 8402)\t0.018534988540728447\n",
      "  (41, 1597)\t0.012583591572559576\n",
      "  (41, 3038)\t0.01322869355421638\n",
      "  (41, 10613)\t0.012900381499081032\n",
      "  (41, 4633)\t0.01227754238084883\n",
      "  (41, 1249)\t0.14934457298516474\n",
      "  (41, 5010)\t0.011417121484189885\n",
      "  (41, 11137)\t0.02455508476169766\n",
      "  (41, 1899)\t0.022195359894539624\n",
      "  (41, 7647)\t0.020549436261838732\n",
      "  (41, 2151)\t0.010631618748147942\n",
      "  (41, 1478)\t0.01227754238084883\n",
      "  (41, 0)\t0.015937913734660008\n",
      "  (41, 550)\t0.018534988540728447\n",
      "  (41, 145)\t0.01507749283800106\n",
      "  (41, 1684)\t0.033778129816055116\n",
      "  (41, 11650)\t0.023963058835137285\n",
      "  (41, 8723)\t0.05427759052504462\n",
      "  (41, 4074)\t0.02314651106790717\n",
      "  (41, 10868)\t0.014676200704382277\n",
      "  (41, 8383)\t0.029041402724341175\n",
      "  (41, 11947)\t0.025800762998162065\n",
      "  (41, 1471)\t0.009240010145269855\n",
      "  (41, 1898)\t0.01507749283800106\n"
     ]
    }
   ],
   "execution_count": 179
  },
  {
   "metadata": {
    "ExecuteTime": {
     "end_time": "2024-05-16T21:50:10.599713Z",
     "start_time": "2024-05-16T21:50:10.586339Z"
    }
   },
   "cell_type": "code",
   "source": "print(vectorizer.get_feature_names_out())",
   "id": "3397aae1a0d0da9d",
   "outputs": [
    {
     "name": "stdout",
     "output_type": "stream",
     "text": [
      "['000' '00005' '0001283' ... 'ḥamīd' 'ḳavḳasosi' 'ἀλβανία']\n"
     ]
    }
   ],
   "execution_count": 180
  },
  {
   "metadata": {
    "ExecuteTime": {
     "end_time": "2024-05-16T21:50:15.764623Z",
     "start_time": "2024-05-16T21:50:15.601631Z"
    }
   },
   "cell_type": "code",
   "source": [
    "import matplotlib.pyplot as plt\n",
    "from sklearn.cluster import KMeans\n",
    "\n",
    "Sum_of_squared_distances = []\n",
    "K = range(1, 7)\n",
    "for k in K:\n",
    "    km = KMeans(n_clusters=k, max_iter=600)\n",
    "    km = km.fit(X)\n",
    "    Sum_of_squared_distances.append(km.inertia_)\n",
    "\n",
    "plt.plot(K, Sum_of_squared_distances, 'bx-')\n",
    "plt.xlabel('k')\n",
    "plt.ylabel('Sum_of_squared_distances')\n",
    "plt.title('Elbow Method For Optimal k')\n",
    "plt.show()"
   ],
   "id": "10925c8f1b94db6",
   "outputs": [
    {
     "data": {
      "text/plain": [
       "<Figure size 640x480 with 1 Axes>"
      ],
      "image/png": "[encoded data removed]"
     },
     "metadata": {},
     "output_type": "display_data"
    }
   ],
   "execution_count": 182
  },
  {
   "metadata": {
    "ExecuteTime": {
     "end_time": "2024-05-16T21:50:34.896898Z",
     "start_time": "2024-05-16T21:50:34.880988Z"
    }
   },
   "cell_type": "code",
   "source": [
    "true_k = 3\n",
    "model = KMeans(n_clusters=true_k, init='k-means++', max_iter=600)\n",
    "model.fit(X)\n",
    "labels = model.labels_\n",
    "wiki_cl = pd.DataFrame(list(zip(articles, labels)), columns=['title', 'cluster'])\n",
    "print(wiki_cl.sort_values(by=['cluster']))"
   ],
   "id": "2d35bd318b62f71b",
   "outputs": [
    {
     "name": "stdout",
     "output_type": "stream",
     "text": [
      "                         title  cluster\n",
      "41                     Kizlyar        0\n",
      "31                    Dagestan        0\n",
      "32                    Chechnya        0\n",
      "33                  Ingushetia        0\n",
      "34          Kabardino-Balkaria        0\n",
      "30                    Caucasus        0\n",
      "36                     Lezgins        0\n",
      "37                   Lezgistan        0\n",
      "38           Caucasian Albania        0\n",
      "39                 Makhachkala        0\n",
      "35                      Adygea        0\n",
      "40                     Derbent        0\n",
      "21        Lattice field theory        1\n",
      "29           Quantum chemistry        1\n",
      "28              Quantum optics        1\n",
      "27      AdS/CFT correspondence        1\n",
      "26                    M-theory        1\n",
      "25          Superstring theory        1\n",
      "24        Grand Unified Theory        1\n",
      "23               Supersymmetry        1\n",
      "22                Gauge theory        1\n",
      "20      Effective field theory        1\n",
      "18      Quantum chromodynamics        1\n",
      "17     Quantum electrodynamics        1\n",
      "16        Quantum field theory        1\n",
      "15              Standard Model        1\n",
      "19          Electroweak theory        1\n",
      "1          Automotive security        2\n",
      "2                   Cybercrime        2\n",
      "3         Cybersex trafficking        2\n",
      "4               Computer fraud        2\n",
      "5                  Cybergeddon        2\n",
      "6               Cyberterrorism        2\n",
      "9          Information warfare        2\n",
      "8      Electromagnetic warfare        2\n",
      "10          Internet security         2\n",
      "11             Mobile security        2\n",
      "12            Network security        2\n",
      "13             Copy protection        2\n",
      "14  Advanced persistent threat        2\n",
      "7                 Cyberwarfare        2\n",
      "0            Computer security        2\n"
     ]
    }
   ],
   "execution_count": 185
  },
  {
   "metadata": {
    "ExecuteTime": {
     "end_time": "2024-05-16T21:50:50.757423Z",
     "start_time": "2024-05-16T21:50:50.300091Z"
    }
   },
   "cell_type": "code",
   "source": [
    "from scipy.cluster.hierarchy import linkage, dendrogram\n",
    "\n",
    "\n",
    "mergings = linkage(X.toarray(), method='complete')\n",
    "dendrogram(mergings,\n",
    "           labels=articles,\n",
    "           leaf_rotation=90,\n",
    "           leaf_font_size=6,\n",
    "           )\n",
    "\n",
    "plt.show()"
   ],
   "id": "d7a74dab52ad7b56",
   "outputs": [
    {
     "data": {
      "text/plain": [
       "<Figure size 640x480 with 1 Axes>"
      ],
      "image/png": "[encoded data removed]"
     },
     "metadata": {},
     "output_type": "display_data"
    }
   ],
   "execution_count": 186
  },
  {
   "metadata": {
    "ExecuteTime": {
     "end_time": "2024-05-16T21:57:44.799680Z",
     "start_time": "2024-05-16T21:57:44.754512Z"
    }
   },
   "cell_type": "code",
   "source": [
    "from sklearn.preprocessing import StandardScaler\n",
    "# масштабируем данные так, чтобы получить нулевое среднее и единичную дисперсию\n",
    "from sklearn.cluster import DBSCAN\n",
    "from sklearn.datasets import make_blobs\n",
    "scaler = StandardScaler()\n",
    "scaler.fit(X)\n",
    "X_scaled = scaler.transform(X)\n",
    "\n",
    "dbscan = DBSCAN()\n",
    "clusters = dbscan.fit_predict(X_scaled)\n",
    "# выводим принадлежность к кластерам"
   ],
   "id": "fecbd6296ada3c0e",
   "outputs": [
    {
     "ename": "ValueError",
     "evalue": "Cannot center sparse matrices: pass `with_mean=False` instead. See docstring for motivation and alternatives.",
     "output_type": "error",
     "traceback": [
      "\u001B[0;31m---------------------------------------------------------------------------\u001B[0m",
      "\u001B[0;31mValueError\u001B[0m                                Traceback (most recent call last)",
      "Cell \u001B[0;32mIn[231], line 6\u001B[0m\n\u001B[1;32m      4\u001B[0m \u001B[38;5;28;01mfrom\u001B[39;00m \u001B[38;5;21;01msklearn\u001B[39;00m\u001B[38;5;21;01m.\u001B[39;00m\u001B[38;5;21;01mdatasets\u001B[39;00m \u001B[38;5;28;01mimport\u001B[39;00m make_blobs\n\u001B[1;32m      5\u001B[0m scaler \u001B[38;5;241m=\u001B[39m StandardScaler()\n\u001B[0;32m----> 6\u001B[0m \u001B[43mscaler\u001B[49m\u001B[38;5;241;43m.\u001B[39;49m\u001B[43mfit\u001B[49m\u001B[43m(\u001B[49m\u001B[43mX\u001B[49m\u001B[43m)\u001B[49m\n\u001B[1;32m      7\u001B[0m X_scaled \u001B[38;5;241m=\u001B[39m scaler\u001B[38;5;241m.\u001B[39mtransform(X)\n\u001B[1;32m      9\u001B[0m dbscan \u001B[38;5;241m=\u001B[39m DBSCAN()\n",
      "File \u001B[0;32m~/Python/AI/.venv/lib/python3.10/site-packages/sklearn/preprocessing/_data.py:876\u001B[0m, in \u001B[0;36mStandardScaler.fit\u001B[0;34m(self, X, y, sample_weight)\u001B[0m\n\u001B[1;32m    874\u001B[0m \u001B[38;5;66;03m# Reset internal state before fitting\u001B[39;00m\n\u001B[1;32m    875\u001B[0m \u001B[38;5;28mself\u001B[39m\u001B[38;5;241m.\u001B[39m_reset()\n\u001B[0;32m--> 876\u001B[0m \u001B[38;5;28;01mreturn\u001B[39;00m \u001B[38;5;28;43mself\u001B[39;49m\u001B[38;5;241;43m.\u001B[39;49m\u001B[43mpartial_fit\u001B[49m\u001B[43m(\u001B[49m\u001B[43mX\u001B[49m\u001B[43m,\u001B[49m\u001B[43m \u001B[49m\u001B[43my\u001B[49m\u001B[43m,\u001B[49m\u001B[43m \u001B[49m\u001B[43msample_weight\u001B[49m\u001B[43m)\u001B[49m\n",
      "File \u001B[0;32m~/Python/AI/.venv/lib/python3.10/site-packages/sklearn/base.py:1474\u001B[0m, in \u001B[0;36m_fit_context.<locals>.decorator.<locals>.wrapper\u001B[0;34m(estimator, *args, **kwargs)\u001B[0m\n\u001B[1;32m   1467\u001B[0m     estimator\u001B[38;5;241m.\u001B[39m_validate_params()\n\u001B[1;32m   1469\u001B[0m \u001B[38;5;28;01mwith\u001B[39;00m config_context(\n\u001B[1;32m   1470\u001B[0m     skip_parameter_validation\u001B[38;5;241m=\u001B[39m(\n\u001B[1;32m   1471\u001B[0m         prefer_skip_nested_validation \u001B[38;5;129;01mor\u001B[39;00m global_skip_validation\n\u001B[1;32m   1472\u001B[0m     )\n\u001B[1;32m   1473\u001B[0m ):\n\u001B[0;32m-> 1474\u001B[0m     \u001B[38;5;28;01mreturn\u001B[39;00m \u001B[43mfit_method\u001B[49m\u001B[43m(\u001B[49m\u001B[43mestimator\u001B[49m\u001B[43m,\u001B[49m\u001B[43m \u001B[49m\u001B[38;5;241;43m*\u001B[39;49m\u001B[43margs\u001B[49m\u001B[43m,\u001B[49m\u001B[43m \u001B[49m\u001B[38;5;241;43m*\u001B[39;49m\u001B[38;5;241;43m*\u001B[39;49m\u001B[43mkwargs\u001B[49m\u001B[43m)\u001B[49m\n",
      "File \u001B[0;32m~/Python/AI/.venv/lib/python3.10/site-packages/sklearn/preprocessing/_data.py:940\u001B[0m, in \u001B[0;36mStandardScaler.partial_fit\u001B[0;34m(self, X, y, sample_weight)\u001B[0m\n\u001B[1;32m    938\u001B[0m \u001B[38;5;28;01mif\u001B[39;00m sparse\u001B[38;5;241m.\u001B[39missparse(X):\n\u001B[1;32m    939\u001B[0m     \u001B[38;5;28;01mif\u001B[39;00m \u001B[38;5;28mself\u001B[39m\u001B[38;5;241m.\u001B[39mwith_mean:\n\u001B[0;32m--> 940\u001B[0m         \u001B[38;5;28;01mraise\u001B[39;00m \u001B[38;5;167;01mValueError\u001B[39;00m(\n\u001B[1;32m    941\u001B[0m             \u001B[38;5;124m\"\u001B[39m\u001B[38;5;124mCannot center sparse matrices: pass `with_mean=False` \u001B[39m\u001B[38;5;124m\"\u001B[39m\n\u001B[1;32m    942\u001B[0m             \u001B[38;5;124m\"\u001B[39m\u001B[38;5;124minstead. See docstring for motivation and alternatives.\u001B[39m\u001B[38;5;124m\"\u001B[39m\n\u001B[1;32m    943\u001B[0m         )\n\u001B[1;32m    944\u001B[0m     sparse_constructor \u001B[38;5;241m=\u001B[39m (\n\u001B[1;32m    945\u001B[0m         sparse\u001B[38;5;241m.\u001B[39mcsr_matrix \u001B[38;5;28;01mif\u001B[39;00m X\u001B[38;5;241m.\u001B[39mformat \u001B[38;5;241m==\u001B[39m \u001B[38;5;124m\"\u001B[39m\u001B[38;5;124mcsr\u001B[39m\u001B[38;5;124m\"\u001B[39m \u001B[38;5;28;01melse\u001B[39;00m sparse\u001B[38;5;241m.\u001B[39mcsc_matrix\n\u001B[1;32m    946\u001B[0m     )\n\u001B[1;32m    948\u001B[0m     \u001B[38;5;28;01mif\u001B[39;00m \u001B[38;5;28mself\u001B[39m\u001B[38;5;241m.\u001B[39mwith_std:\n\u001B[1;32m    949\u001B[0m         \u001B[38;5;66;03m# First pass\u001B[39;00m\n",
      "\u001B[0;31mValueError\u001B[0m: Cannot center sparse matrices: pass `with_mean=False` instead. See docstring for motivation and alternatives."
     ]
    }
   ],
   "execution_count": 231
  },
  {
   "metadata": {
    "ExecuteTime": {
     "end_time": "2024-05-16T21:57:43.344226Z",
     "start_time": "2024-05-16T21:57:43.342358Z"
    }
   },
   "cell_type": "code",
   "source": "",
   "id": "d310f9a158d25242",
   "outputs": [],
   "execution_count": 230
  },
  {
   "metadata": {},
   "cell_type": "code",
   "outputs": [],
   "execution_count": null,
   "source": "",
   "id": "796598605f29ca23"
  }
 ],
 "metadata": {
  "kernelspec": {
   "display_name": "Python 3",
   "language": "python",
   "name": "python3"
  },
  "language_info": {
   "codemirror_mode": {
    "name": "ipython",
    "version": 2
   },
   "file_extension": ".py",
   "mimetype": "text/x-python",
   "name": "python",
   "nbconvert_exporter": "python",
   "pygments_lexer": "ipython2",
   "version": "2.7.6"
  }
 },
 "nbformat": 4,
 "nbformat_minor": 5
}
